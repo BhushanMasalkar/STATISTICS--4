{
 "cells": [
  {
   "cell_type": "code",
   "execution_count": 15,
   "metadata": {},
   "outputs": [],
   "source": [
    "import numpy as np           \n",
    "import pandas as pd "
   ]
  },
  {
   "cell_type": "code",
   "execution_count": 16,
   "metadata": {},
   "outputs": [],
   "source": [
    "#Problem Statement:-1\n",
    "\n",
    "female=[60, 54, 46, 41, 201]\n",
    "male=[40, 44, 53, 57, 194]"
   ]
  },
  {
   "cell_type": "code",
   "execution_count": 17,
   "metadata": {},
   "outputs": [
    {
     "name": "stdout",
     "output_type": "stream",
     "text": [
      "[50.886, 49.868, 50.377, 49.868, 201.0]\n",
      "[49.114, 48.132, 48.623, 48.132, 194.0]\n"
     ]
    }
   ],
   "source": [
    "female_1=[]\n",
    "male_1=[]\n",
    "sample= sum(female)+sum(male)\n",
    "\n",
    "for i in range(len(female)):\n",
    "    female_1.append(round(sum(female)*(female[i]+male[i])/sample,3))\n",
    "    male_1.append(round(sum(male)*(female[i]+male[i])/sample,3))\n",
    "\n",
    "print(female_1)\n",
    "print(male_1)"
   ]
  },
  {
   "cell_type": "code",
   "execution_count": 18,
   "metadata": {},
   "outputs": [
    {
     "name": "stdout",
     "output_type": "stream",
     "text": [
      "8.006\n"
     ]
    }
   ],
   "source": [
    "chi_square = 0\n",
    "for i in range(len(female)):\n",
    "    chi_square = chi_square + ((female[i] - female_1[i])**2)/female_1[i]\n",
    "    chi_square = chi_square + ((male[i] - male_1[i])**2)/male_1[i]\n",
    "print(round(chi_square,3))"
   ]
  },
  {
   "cell_type": "code",
   "execution_count": 19,
   "metadata": {},
   "outputs": [
    {
     "name": "stdout",
     "output_type": "stream",
     "text": [
      "The critical value of χ2 with 3 degree of freedom is 7.815(using sci table). Since 8.006 > 7.815,\n",
      "      therefore we reject the null hypothesis and conclude that the education level\n",
      "      depends on gender at a 5% level of significance.\n"
     ]
    }
   ],
   "source": [
    "print(\"\"\"The critical value of χ2 with 3 degree of freedom is 7.815(using sci table). Since 8.006 > 7.815,\n",
    "      therefore we reject the null hypothesis and conclude that the education level\n",
    "      depends on gender at a 5% level of significance.\"\"\")"
   ]
  },
  {
   "cell_type": "code",
   "execution_count": 21,
   "metadata": {},
   "outputs": [
    {
     "name": "stdout",
     "output_type": "stream",
     "text": [
      "The result in APA format :\n",
      "F(2, 12)=9.75, p <0.05, η2=0.62\n"
     ]
    }
   ],
   "source": [
    "#Problem Statement:-2\n",
    "\n",
    "variance_1 = 612.8/(5-1)\n",
    "variance_2 = 515.2/(5-1)\n",
    "variance_3 = 732.8/(5-1)\n",
    "ms_error = (variance_1+variance_2+variance_3)/3\n",
    "df_error = 15-3\n",
    "ss_error = ms_error/df_error\n",
    "grand_mean = (48.2+35.4+69.8)/3\n",
    "ss_mean = 604.58\n",
    "var_mean = ss_mean/(3-1)\n",
    "ms_between = var_mean*5\n",
    "df_groups = 3-1\n",
    "ss_group = ms_between*df_groups\n",
    "F=ms_between/ms_error\n",
    "eta_square = ss_group/4883.7\n",
    "print(\"The result in APA format :\\nF(2, 12)=9.75, p <0.05, η2=\" + str(round(eta_square,2)))"
   ]
  },
  {
   "cell_type": "code",
   "execution_count": 22,
   "metadata": {},
   "outputs": [
    {
     "name": "stdout",
     "output_type": "stream",
     "text": [
      "F test value is : 4.0\n"
     ]
    }
   ],
   "source": [
    "#Problem Statement:- 3\n",
    "\n",
    "x= [10, 20, 30, 40, 50]\n",
    "y = [5, 10, 15, 20, 25]\n",
    "var_x=np.var(x)\n",
    "var_y=np.var(y)\n",
    "f = var_x/var_y\n",
    "print(\"F test value is : \" + str(f))"
   ]
  },
  {
   "cell_type": "code",
   "execution_count": null,
   "metadata": {},
   "outputs": [],
   "source": []
  }
 ],
 "metadata": {
  "kernelspec": {
   "display_name": "Python 3",
   "language": "python",
   "name": "python3"
  },
  "language_info": {
   "codemirror_mode": {
    "name": "ipython",
    "version": 3
   },
   "file_extension": ".py",
   "mimetype": "text/x-python",
   "name": "python",
   "nbconvert_exporter": "python",
   "pygments_lexer": "ipython3",
   "version": "3.6.5"
  },
  "varInspector": {
   "cols": {
    "lenName": 16,
    "lenType": 16,
    "lenVar": 40
   },
   "kernels_config": {
    "python": {
     "delete_cmd_postfix": "",
     "delete_cmd_prefix": "del ",
     "library": "var_list.py",
     "varRefreshCmd": "print(var_dic_list())"
    },
    "r": {
     "delete_cmd_postfix": ") ",
     "delete_cmd_prefix": "rm(",
     "library": "var_list.r",
     "varRefreshCmd": "cat(var_dic_list()) "
    }
   },
   "types_to_exclude": [
    "module",
    "function",
    "builtin_function_or_method",
    "instance",
    "_Feature"
   ],
   "window_display": false
  }
 },
 "nbformat": 4,
 "nbformat_minor": 2
}
